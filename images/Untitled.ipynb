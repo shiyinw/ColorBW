{
 "cells": [
  {
   "cell_type": "code",
   "execution_count": 2,
   "metadata": {
    "ExecuteTime": {
     "end_time": "2019-01-20T02:54:17.446056Z",
     "start_time": "2019-01-20T02:54:17.437950Z"
    }
   },
   "outputs": [],
   "source": [
    "def rgb2yiq(rgb):\n",
    "    rgb = rgb / 255.0\n",
    "    y = np.clip(np.dot(rgb, np.array([0.299, 0.587, 0.144])),             0,   1)\n",
    "    i = np.clip(np.dot(rgb, np.array([0.595716, -0.274453, -0.321263])), -0.5957, 0.5957)\n",
    "    q = np.clip(np.dot(rgb, np.array([0.211456, -0.522591, 0.311135])),  -0.5226, 0.5226)\n",
    "    yiq = rgb\n",
    "    yiq[..., 0] = y\n",
    "    yiq[..., 1] = i\n",
    "    yiq[..., 2] = q\n",
    "    return yiq\n",
    "\n",
    "\n",
    "def yiq2rgb(yiq):\n",
    "    r = np.dot(yiq, np.array([1.0,  0.956295719758948,  0.621024416465261]))\n",
    "    g = np.dot(yiq, np.array([1.0, -0.272122099318510, -0.647380596825695]))\n",
    "    b = np.dot(yiq, np.array([1.0, -1.106989016736491,  1.704614998364648]))\n",
    "    rgb = yiq\n",
    "    rgb[:, :, 0] = r\n",
    "    rgb[:, :, 1] = g\n",
    "    rgb[:, :, 2] = b\n",
    "    out = np.clip(rgb, 0.0, 1.0) * 255.0\n",
    "    out = out.astype(np.uint8)\n",
    "    return out"
   ]
  },
  {
   "cell_type": "code",
   "execution_count": 16,
   "metadata": {
    "ExecuteTime": {
     "end_time": "2019-01-20T04:44:11.345788Z",
     "start_time": "2019-01-20T04:44:06.712098Z"
    }
   },
   "outputs": [
    {
     "data": {
      "text/plain": [
       "True"
      ]
     },
     "execution_count": 16,
     "metadata": {},
     "output_type": "execute_result"
    }
   ],
   "source": [
    "import sys, cv2\n",
    "import random\n",
    "import numpy as np\n",
    "import math\n",
    "    \n",
    "imgname = \"35\"\n",
    "origin_dir = 'origin_{}.png'.format(imgname)\n",
    "sketch_dir = 'sketch_{}.png'.format(imgname)\n",
    "gray_dir = 'gray_{}.png'.format(imgname)\n",
    "\n",
    "im_rgb = cv2.imread(origin_dir)\n",
    "\n",
    "for i in im_rgb:\n",
    "    for j in i:\n",
    "        if(j[0]>200):\n",
    "            j[0]=255\n",
    "        else:\n",
    "            j[0]=0\n",
    "        if (j[1] > 200):\n",
    "            j[1] = 255\n",
    "        else:\n",
    "            j[1]=0\n",
    "        if (j[2] > 200):\n",
    "            j[2] = 255\n",
    "        else:\n",
    "            j[2]=0\n",
    "            \n",
    "\n",
    "im_yiq = rgb2yiq(im_rgb)\n",
    "im_yiq[:, :, 1:] = np.zeros(shape=(x, y, 2))\n",
    "im_rgb = yiq2rgb(im_yiq)\n",
    "cv2.imwrite(origin_dir, im_rgb)\n",
    "\n",
    "x, y = im_yiq.shape[:2]\n",
    "\n",
    "im_gray = im_yiq.copy()\n",
    "im_gray[:, :, 1:] = np.zeros(shape=(x, y, 2))\n",
    "\n",
    "\n",
    "sketch_rgb = cv2.imread(sketch_dir)\n",
    "cv2.imwrite(sketch_dir, sketch_rgb[:, :, :3])\n",
    "\n"
   ]
  },
  {
   "cell_type": "code",
   "execution_count": null,
   "metadata": {},
   "outputs": [],
   "source": []
  }
 ],
 "metadata": {
  "kernelspec": {
   "display_name": "Python 3",
   "language": "python",
   "name": "python3"
  },
  "language_info": {
   "codemirror_mode": {
    "name": "ipython",
    "version": 3
   },
   "file_extension": ".py",
   "mimetype": "text/x-python",
   "name": "python",
   "nbconvert_exporter": "python",
   "pygments_lexer": "ipython3",
   "version": "3.7.2"
  },
  "toc": {
   "base_numbering": 1,
   "nav_menu": {},
   "number_sections": true,
   "sideBar": true,
   "skip_h1_title": false,
   "title_cell": "Table of Contents",
   "title_sidebar": "Contents",
   "toc_cell": false,
   "toc_position": {},
   "toc_section_display": true,
   "toc_window_display": false
  },
  "varInspector": {
   "cols": {
    "lenName": 16,
    "lenType": 16,
    "lenVar": 40
   },
   "kernels_config": {
    "python": {
     "delete_cmd_postfix": "",
     "delete_cmd_prefix": "del ",
     "library": "var_list.py",
     "varRefreshCmd": "print(var_dic_list())"
    },
    "r": {
     "delete_cmd_postfix": ") ",
     "delete_cmd_prefix": "rm(",
     "library": "var_list.r",
     "varRefreshCmd": "cat(var_dic_list()) "
    }
   },
   "types_to_exclude": [
    "module",
    "function",
    "builtin_function_or_method",
    "instance",
    "_Feature"
   ],
   "window_display": false
  }
 },
 "nbformat": 4,
 "nbformat_minor": 2
}
